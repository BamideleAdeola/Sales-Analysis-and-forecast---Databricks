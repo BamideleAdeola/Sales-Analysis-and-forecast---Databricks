{
 "cells": [
  {
   "cell_type": "markdown",
   "id": "0236bca1",
   "metadata": {},
   "source": [
    "# Retail Sales Analysis and Prediction\n",
    "\n",
    "#### An End to End Databricks Project"
   ]
  },
  {
   "cell_type": "markdown",
   "id": "f3ce0694",
   "metadata": {},
   "source": [
    "# Tools\n",
    "- Databricks\n",
    "- Python\n",
    "- Pyspark\n",
    "- Azure Blob Storage\n",
    "- Microsoft Fabric LakeHouse\n",
    "- Delta Tables\n",
    "\n",
    "\n",
    "\n",
    "\n",
    "\n",
    "\n"
   ]
  },
  {
   "cell_type": "markdown",
   "id": "a9eb4fe7",
   "metadata": {},
   "source": [
    "#### Project Description: \n",
    "This project analyzes historical sales data from a sudo retail company to understand sales patterns, customer behavior, and product performance. Also, it leverages a machine learning model to predict future sales and finally recommend strategies for inventory management and promotions."
   ]
  },
  {
   "cell_type": "code",
   "execution_count": 9,
   "id": "605cc539",
   "metadata": {},
   "outputs": [],
   "source": []
  },
  {
   "cell_type": "code",
   "execution_count": null,
   "id": "23800b44",
   "metadata": {},
   "outputs": [],
   "source": []
  },
  {
   "cell_type": "markdown",
   "id": "414f7305",
   "metadata": {},
   "source": [
    "### Generate Random Data"
   ]
  },
  {
   "cell_type": "code",
   "execution_count": 1,
   "id": "593c8278",
   "metadata": {},
   "outputs": [],
   "source": [
    "import pandas as pd\n",
    "import numpy as np\n",
    "from faker import Faker\n",
    "import random\n",
    "\n",
    "\n",
    "# Initialize Faker\n",
    "fake = Faker()"
   ]
  },
  {
   "cell_type": "code",
   "execution_count": 7,
   "id": "6dd55a78",
   "metadata": {},
   "outputs": [
    {
     "name": "stdout",
     "output_type": "stream",
     "text": [
      "Collecting Faker\n",
      "  Downloading Faker-28.1.0-py3-none-any.whl (1.8 MB)\n",
      "Requirement already satisfied: python-dateutil>=2.4 in c:\\users\\bamidele\\anaconda3\\lib\\site-packages (from Faker) (2.8.2)\n",
      "Requirement already satisfied: six>=1.5 in c:\\users\\bamidele\\anaconda3\\lib\\site-packages (from python-dateutil>=2.4->Faker) (1.16.0)\n",
      "Installing collected packages: Faker\n",
      "Successfully installed Faker-28.1.0\n",
      "Note: you may need to restart the kernel to use updated packages.\n"
     ]
    }
   ],
   "source": [
    "pip install Faker"
   ]
  },
  {
   "cell_type": "code",
   "execution_count": 8,
   "id": "d52a32c6",
   "metadata": {},
   "outputs": [],
   "source": [
    "import pandas as pd\n",
    "import numpy as np\n",
    "from faker import Faker\n",
    "import random\n",
    "\n",
    "# Initialize Faker\n",
    "fake = Faker()"
   ]
  },
  {
   "cell_type": "code",
   "execution_count": 43,
   "id": "bfc15031",
   "metadata": {},
   "outputs": [],
   "source": [
    "path = r'C:\\Users\\Bamidele\\Desktop\\Bams\\Databricks\\DataBricks-Personal\\02. Data'"
   ]
  },
  {
   "cell_type": "code",
   "execution_count": 9,
   "id": "e81a5494",
   "metadata": {},
   "outputs": [],
   "source": [
    "# Setting the number of records \n",
    "\n",
    "num_of_records = 10000"
   ]
  },
  {
   "cell_type": "code",
   "execution_count": 17,
   "id": "e7dd3203",
   "metadata": {},
   "outputs": [],
   "source": [
    "# You need to create a list to store the data \n",
    "\n",
    "salesdata = []"
   ]
  },
  {
   "cell_type": "code",
   "execution_count": 11,
   "id": "ad9b42b8",
   "metadata": {},
   "outputs": [],
   "source": [
    "# product categories for the data \n",
    "categories = ['Electronics', 'Clothing', 'Home & Kitchen', 'Sports', 'Toys']"
   ]
  },
  {
   "cell_type": "code",
   "execution_count": 12,
   "id": "7d18bf5d",
   "metadata": {},
   "outputs": [
    {
     "data": {
      "text/plain": [
       "['Electronics', 'Clothing', 'Home & Kitchen', 'Sports', 'Toys']"
      ]
     },
     "execution_count": 12,
     "metadata": {},
     "output_type": "execute_result"
    }
   ],
   "source": [
    "categories"
   ]
  },
  {
   "cell_type": "code",
   "execution_count": 18,
   "id": "3aa41a50",
   "metadata": {},
   "outputs": [],
   "source": [
    "# Generating the necessary data\n",
    "for _ in range(num_of_records):\n",
    "    customer_id = fake.uuid4()\n",
    "    customer_name = fake.name()\n",
    "    product_id = fake.uuid4()\n",
    "    product_name = fake.word().capitalize()\n",
    "    category = random.choice(categories)\n",
    "    price = round(random.uniform(5, 500), 2)\n",
    "    quantity = random.randint(1, 10)\n",
    "    transaction_date = fake.date_this_year()\n",
    "    total_amount = round(price * quantity, 2)\n",
    "    \n",
    "    salesdata.append([customer_id, customer_name, product_id, product_name, category, price, quantity, transaction_date, total_amount])\n"
   ]
  },
  {
   "cell_type": "code",
   "execution_count": 20,
   "id": "4bdbebc2",
   "metadata": {},
   "outputs": [],
   "source": [
    "# Creating a DataFrame with the newly generated data\n",
    "columns = ['Customer_ID', 'Customer_Name', 'Product_ID', 'Product_Name', 'Category', 'Price', 'Quantity', 'Transaction_Date', 'Total_Amount']\n",
    "df = pd.DataFrame(salesdata, columns=columns)"
   ]
  },
  {
   "cell_type": "code",
   "execution_count": 23,
   "id": "797f4999",
   "metadata": {},
   "outputs": [
    {
     "data": {
      "text/html": [
       "<div>\n",
       "<style scoped>\n",
       "    .dataframe tbody tr th:only-of-type {\n",
       "        vertical-align: middle;\n",
       "    }\n",
       "\n",
       "    .dataframe tbody tr th {\n",
       "        vertical-align: top;\n",
       "    }\n",
       "\n",
       "    .dataframe thead th {\n",
       "        text-align: right;\n",
       "    }\n",
       "</style>\n",
       "<table border=\"1\" class=\"dataframe\">\n",
       "  <thead>\n",
       "    <tr style=\"text-align: right;\">\n",
       "      <th></th>\n",
       "      <th>Customer_ID</th>\n",
       "      <th>Customer_Name</th>\n",
       "      <th>Product_ID</th>\n",
       "      <th>Product_Name</th>\n",
       "      <th>Category</th>\n",
       "      <th>Price</th>\n",
       "      <th>Quantity</th>\n",
       "      <th>Transaction_Date</th>\n",
       "      <th>Total_Amount</th>\n",
       "    </tr>\n",
       "  </thead>\n",
       "  <tbody>\n",
       "    <tr>\n",
       "      <th>0</th>\n",
       "      <td>115edf52-1291-4027-a5f7-f966c5e6add5</td>\n",
       "      <td>Jay Potter</td>\n",
       "      <td>f9babb05-4ca4-49f3-8121-128939b84781</td>\n",
       "      <td>Wonder</td>\n",
       "      <td>Home &amp; Kitchen</td>\n",
       "      <td>499.55</td>\n",
       "      <td>1</td>\n",
       "      <td>2024-06-20</td>\n",
       "      <td>499.55</td>\n",
       "    </tr>\n",
       "    <tr>\n",
       "      <th>1</th>\n",
       "      <td>7c9b84de-6855-4a4d-af53-b71cf6dc36e4</td>\n",
       "      <td>Brianna Lawson</td>\n",
       "      <td>34e7bb20-7aab-423b-ac8b-17e455e3e654</td>\n",
       "      <td>More</td>\n",
       "      <td>Home &amp; Kitchen</td>\n",
       "      <td>83.97</td>\n",
       "      <td>1</td>\n",
       "      <td>2024-01-07</td>\n",
       "      <td>83.97</td>\n",
       "    </tr>\n",
       "    <tr>\n",
       "      <th>2</th>\n",
       "      <td>3f849d03-1c23-4f9f-8516-b5734ab66c16</td>\n",
       "      <td>Tara Klein</td>\n",
       "      <td>c83981d0-ff91-4afb-8d5c-8ab0acaa4cea</td>\n",
       "      <td>Present</td>\n",
       "      <td>Clothing</td>\n",
       "      <td>464.59</td>\n",
       "      <td>1</td>\n",
       "      <td>2024-05-18</td>\n",
       "      <td>464.59</td>\n",
       "    </tr>\n",
       "    <tr>\n",
       "      <th>3</th>\n",
       "      <td>30f2497b-0e1b-4ba9-a0e0-3f9cef78d78b</td>\n",
       "      <td>William Camacho</td>\n",
       "      <td>6ef63984-a996-4789-af4e-51ecc7951675</td>\n",
       "      <td>Weight</td>\n",
       "      <td>Sports</td>\n",
       "      <td>143.66</td>\n",
       "      <td>4</td>\n",
       "      <td>2024-01-25</td>\n",
       "      <td>574.64</td>\n",
       "    </tr>\n",
       "    <tr>\n",
       "      <th>4</th>\n",
       "      <td>17f4b4b8-53cb-4e42-ab15-9191169755e3</td>\n",
       "      <td>Steven Archer</td>\n",
       "      <td>542a8e0d-e44e-4c65-8df1-34f0102d4574</td>\n",
       "      <td>Or</td>\n",
       "      <td>Toys</td>\n",
       "      <td>326.34</td>\n",
       "      <td>5</td>\n",
       "      <td>2024-05-11</td>\n",
       "      <td>1631.70</td>\n",
       "    </tr>\n",
       "  </tbody>\n",
       "</table>\n",
       "</div>"
      ],
      "text/plain": [
       "                            Customer_ID    Customer_Name  \\\n",
       "0  115edf52-1291-4027-a5f7-f966c5e6add5       Jay Potter   \n",
       "1  7c9b84de-6855-4a4d-af53-b71cf6dc36e4   Brianna Lawson   \n",
       "2  3f849d03-1c23-4f9f-8516-b5734ab66c16       Tara Klein   \n",
       "3  30f2497b-0e1b-4ba9-a0e0-3f9cef78d78b  William Camacho   \n",
       "4  17f4b4b8-53cb-4e42-ab15-9191169755e3    Steven Archer   \n",
       "\n",
       "                             Product_ID Product_Name        Category   Price  \\\n",
       "0  f9babb05-4ca4-49f3-8121-128939b84781       Wonder  Home & Kitchen  499.55   \n",
       "1  34e7bb20-7aab-423b-ac8b-17e455e3e654         More  Home & Kitchen   83.97   \n",
       "2  c83981d0-ff91-4afb-8d5c-8ab0acaa4cea      Present        Clothing  464.59   \n",
       "3  6ef63984-a996-4789-af4e-51ecc7951675       Weight          Sports  143.66   \n",
       "4  542a8e0d-e44e-4c65-8df1-34f0102d4574           Or            Toys  326.34   \n",
       "\n",
       "   Quantity Transaction_Date  Total_Amount  \n",
       "0         1       2024-06-20        499.55  \n",
       "1         1       2024-01-07         83.97  \n",
       "2         1       2024-05-18        464.59  \n",
       "3         4       2024-01-25        574.64  \n",
       "4         5       2024-05-11       1631.70  "
      ]
     },
     "execution_count": 23,
     "metadata": {},
     "output_type": "execute_result"
    }
   ],
   "source": [
    "# check the output of the data before exporting it\n",
    "df.head()"
   ]
  },
  {
   "cell_type": "code",
   "execution_count": 49,
   "id": "3d7a9485",
   "metadata": {},
   "outputs": [],
   "source": [
    "# Exporting the randomly generated data to csv\n",
    "df.to_csv(path  + '\\sales_data.csv', index = False)"
   ]
  },
  {
   "cell_type": "code",
   "execution_count": null,
   "id": "31a9e55c",
   "metadata": {},
   "outputs": [],
   "source": []
  },
  {
   "cell_type": "code",
   "execution_count": null,
   "id": "fd78e0e2",
   "metadata": {},
   "outputs": [],
   "source": [
    "# print ('Sales data random data') \n",
    "print('The random sales data has now been successfully exported')"
   ]
  },
  {
   "cell_type": "markdown",
   "id": "16ae6acf",
   "metadata": {},
   "source": [
    "c/o Bamidele Ajamu\n",
    "- Thank you"
   ]
  }
 ],
 "metadata": {
  "kernelspec": {
   "display_name": "Python 3 (ipykernel)",
   "language": "python",
   "name": "python3"
  },
  "language_info": {
   "codemirror_mode": {
    "name": "ipython",
    "version": 3
   },
   "file_extension": ".py",
   "mimetype": "text/x-python",
   "name": "python",
   "nbconvert_exporter": "python",
   "pygments_lexer": "ipython3",
   "version": "3.9.7"
  }
 },
 "nbformat": 4,
 "nbformat_minor": 5
}
